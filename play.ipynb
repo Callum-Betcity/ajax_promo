{
 "cells": [
  {
   "cell_type": "code",
   "execution_count": 12,
   "metadata": {},
   "outputs": [],
   "source": [
    "import pandas as pd\n",
    "import matplotlib as plt"
   ]
  },
  {
   "cell_type": "code",
   "execution_count": 4,
   "metadata": {},
   "outputs": [],
   "source": [
    "df = pd.read_csv('ajax_promos.csv')"
   ]
  },
  {
   "cell_type": "code",
   "execution_count": 5,
   "metadata": {},
   "outputs": [
    {
     "data": {
      "text/html": [
       "<div>\n",
       "<style scoped>\n",
       "    .dataframe tbody tr th:only-of-type {\n",
       "        vertical-align: middle;\n",
       "    }\n",
       "\n",
       "    .dataframe tbody tr th {\n",
       "        vertical-align: top;\n",
       "    }\n",
       "\n",
       "    .dataframe thead th {\n",
       "        text-align: right;\n",
       "    }\n",
       "</style>\n",
       "<table border=\"1\" class=\"dataframe\">\n",
       "  <thead>\n",
       "    <tr style=\"text-align: right;\">\n",
       "      <th></th>\n",
       "      <th>username</th>\n",
       "      <th>bonus_template_name</th>\n",
       "      <th>amount_deposited</th>\n",
       "      <th>num_deposits</th>\n",
       "      <th>num_bets</th>\n",
       "      <th>all_stake_total</th>\n",
       "    </tr>\n",
       "  </thead>\n",
       "  <tbody>\n",
       "    <tr>\n",
       "      <th>0</th>\n",
       "      <td>BETR27946762</td>\n",
       "      <td>WOODS230222_Ajax</td>\n",
       "      <td>1411.0</td>\n",
       "      <td>85</td>\n",
       "      <td>85</td>\n",
       "      <td>21.00</td>\n",
       "    </tr>\n",
       "    <tr>\n",
       "      <th>1</th>\n",
       "      <td>BETR86787948</td>\n",
       "      <td>NaN</td>\n",
       "      <td>20.0</td>\n",
       "      <td>1</td>\n",
       "      <td>1</td>\n",
       "      <td>1.00</td>\n",
       "    </tr>\n",
       "    <tr>\n",
       "      <th>2</th>\n",
       "      <td>BETR38746559</td>\n",
       "      <td>WOODS230222_Ajax</td>\n",
       "      <td>125.0</td>\n",
       "      <td>10</td>\n",
       "      <td>10</td>\n",
       "      <td>16.00</td>\n",
       "    </tr>\n",
       "    <tr>\n",
       "      <th>3</th>\n",
       "      <td>BETR88947852</td>\n",
       "      <td>WOODS230222_Ajax</td>\n",
       "      <td>450.0</td>\n",
       "      <td>45</td>\n",
       "      <td>45</td>\n",
       "      <td>90.21</td>\n",
       "    </tr>\n",
       "    <tr>\n",
       "      <th>4</th>\n",
       "      <td>BETR72385288</td>\n",
       "      <td>WOODS230222_Ajax</td>\n",
       "      <td>1900.0</td>\n",
       "      <td>95</td>\n",
       "      <td>95</td>\n",
       "      <td>104.78</td>\n",
       "    </tr>\n",
       "  </tbody>\n",
       "</table>\n",
       "</div>"
      ],
      "text/plain": [
       "       username bonus_template_name  amount_deposited  num_deposits  num_bets  \\\n",
       "0  BETR27946762    WOODS230222_Ajax            1411.0            85        85   \n",
       "1  BETR86787948                 NaN              20.0             1         1   \n",
       "2  BETR38746559    WOODS230222_Ajax             125.0            10        10   \n",
       "3  BETR88947852    WOODS230222_Ajax             450.0            45        45   \n",
       "4  BETR72385288    WOODS230222_Ajax            1900.0            95        95   \n",
       "\n",
       "   all_stake_total  \n",
       "0            21.00  \n",
       "1             1.00  \n",
       "2            16.00  \n",
       "3            90.21  \n",
       "4           104.78  "
      ]
     },
     "execution_count": 5,
     "metadata": {},
     "output_type": "execute_result"
    }
   ],
   "source": [
    "df.head()"
   ]
  },
  {
   "cell_type": "code",
   "execution_count": 6,
   "metadata": {},
   "outputs": [
    {
     "name": "stdout",
     "output_type": "stream",
     "text": [
      "<class 'pandas.core.frame.DataFrame'>\n",
      "RangeIndex: 1858 entries, 0 to 1857\n",
      "Data columns (total 6 columns):\n",
      " #   Column               Non-Null Count  Dtype  \n",
      "---  ------               --------------  -----  \n",
      " 0   username             1858 non-null   object \n",
      " 1   bonus_template_name  1857 non-null   object \n",
      " 2   amount_deposited     1858 non-null   float64\n",
      " 3   num_deposits         1858 non-null   int64  \n",
      " 4   num_bets             1858 non-null   int64  \n",
      " 5   all_stake_total      1858 non-null   float64\n",
      "dtypes: float64(2), int64(2), object(2)\n",
      "memory usage: 87.2+ KB\n"
     ]
    }
   ],
   "source": [
    "df.info()"
   ]
  },
  {
   "cell_type": "code",
   "execution_count": 8,
   "metadata": {},
   "outputs": [
    {
     "data": {
      "text/plain": [
       "bonus_template_name\n",
       "WODDS112421_1BesiktasAjax    24423.321649\n",
       "WOODS230222_Ajax              4424.535795\n",
       "Name: amount_deposited, dtype: float64"
      ]
     },
     "execution_count": 8,
     "metadata": {},
     "output_type": "execute_result"
    }
   ],
   "source": [
    "df.groupby('bonus_template_name').amount_deposited.mean()"
   ]
  },
  {
   "cell_type": "code",
   "execution_count": 14,
   "metadata": {},
   "outputs": [
    {
     "data": {
      "text/plain": [
       "bonus_template_name\n",
       "WODDS112421_1BesiktasAjax    2250.0\n",
       "WOODS230222_Ajax              140.0\n",
       "Name: amount_deposited, dtype: float64"
      ]
     },
     "execution_count": 14,
     "metadata": {},
     "output_type": "execute_result"
    }
   ],
   "source": [
    "df.groupby('bonus_template_name').amount_deposited.median()"
   ]
  },
  {
   "cell_type": "code",
   "execution_count": 16,
   "metadata": {},
   "outputs": [
    {
     "data": {
      "text/html": [
       "<div>\n",
       "<style scoped>\n",
       "    .dataframe tbody tr th:only-of-type {\n",
       "        vertical-align: middle;\n",
       "    }\n",
       "\n",
       "    .dataframe tbody tr th {\n",
       "        vertical-align: top;\n",
       "    }\n",
       "\n",
       "    .dataframe thead th {\n",
       "        text-align: right;\n",
       "    }\n",
       "</style>\n",
       "<table border=\"1\" class=\"dataframe\">\n",
       "  <thead>\n",
       "    <tr style=\"text-align: right;\">\n",
       "      <th></th>\n",
       "      <th>count</th>\n",
       "      <th>mean</th>\n",
       "      <th>std</th>\n",
       "      <th>min</th>\n",
       "      <th>25%</th>\n",
       "      <th>50%</th>\n",
       "      <th>75%</th>\n",
       "      <th>max</th>\n",
       "    </tr>\n",
       "    <tr>\n",
       "      <th>bonus_template_name</th>\n",
       "      <th></th>\n",
       "      <th></th>\n",
       "      <th></th>\n",
       "      <th></th>\n",
       "      <th></th>\n",
       "      <th></th>\n",
       "      <th></th>\n",
       "      <th></th>\n",
       "    </tr>\n",
       "  </thead>\n",
       "  <tbody>\n",
       "    <tr>\n",
       "      <th>WODDS112421_1BesiktasAjax</th>\n",
       "      <td>97.0</td>\n",
       "      <td>24423.321649</td>\n",
       "      <td>89429.012329</td>\n",
       "      <td>20.0</td>\n",
       "      <td>470.0</td>\n",
       "      <td>2250.0</td>\n",
       "      <td>10160.0</td>\n",
       "      <td>736000.0</td>\n",
       "    </tr>\n",
       "    <tr>\n",
       "      <th>WOODS230222_Ajax</th>\n",
       "      <td>1760.0</td>\n",
       "      <td>4424.535795</td>\n",
       "      <td>37570.608637</td>\n",
       "      <td>20.0</td>\n",
       "      <td>40.0</td>\n",
       "      <td>140.0</td>\n",
       "      <td>622.5</td>\n",
       "      <td>1048110.0</td>\n",
       "    </tr>\n",
       "  </tbody>\n",
       "</table>\n",
       "</div>"
      ],
      "text/plain": [
       "                            count          mean           std   min    25%  \\\n",
       "bonus_template_name                                                          \n",
       "WODDS112421_1BesiktasAjax    97.0  24423.321649  89429.012329  20.0  470.0   \n",
       "WOODS230222_Ajax           1760.0   4424.535795  37570.608637  20.0   40.0   \n",
       "\n",
       "                              50%      75%        max  \n",
       "bonus_template_name                                    \n",
       "WODDS112421_1BesiktasAjax  2250.0  10160.0   736000.0  \n",
       "WOODS230222_Ajax            140.0    622.5  1048110.0  "
      ]
     },
     "execution_count": 16,
     "metadata": {},
     "output_type": "execute_result"
    }
   ],
   "source": [
    "df.groupby('bonus_template_name').amount_deposited.describe()"
   ]
  },
  {
   "cell_type": "code",
   "execution_count": 13,
   "metadata": {},
   "outputs": [
    {
     "data": {
      "text/plain": [
       "<AxesSubplot:title={'center':'amount_deposited'}, xlabel='bonus_template_name'>"
      ]
     },
     "execution_count": 13,
     "metadata": {},
     "output_type": "execute_result"
    },
    {
     "data": {
      "image/png": "[encoded data removed]",
      "text/plain": [
       "<Figure size 432x288 with 1 Axes>"
      ]
     },
     "metadata": {
      "needs_background": "light"
     },
     "output_type": "display_data"
    }
   ],
   "source": [
    "df.boxplot('amount_deposited', by='bonus_template_name')"
   ]
  },
  {
   "cell_type": "code",
   "execution_count": 24,
   "metadata": {},
   "outputs": [
    {
     "data": {
      "text/plain": [
       "array([<AxesSubplot:title={'center':'WODDS112421_1BesiktasAjax'}>,\n",
       "       <AxesSubplot:title={'center':'WOODS230222_Ajax'}>], dtype=object)"
      ]
     },
     "execution_count": 24,
     "metadata": {},
     "output_type": "execute_result"
    },
    {
     "data": {
      "image/png": "[encoded data removed]",
      "text/plain": [
       "<Figure size 1080x432 with 2 Axes>"
      ]
     },
     "metadata": {
      "needs_background": "light"
     },
     "output_type": "display_data"
    }
   ],
   "source": [
    "df.hist('amount_deposited', by='bonus_template_name', figsize=(15,6))\n"
   ]
  },
  {
   "cell_type": "code",
   "execution_count": 28,
   "metadata": {},
   "outputs": [
    {
     "data": {
      "text/plain": [
       "array([<AxesSubplot:title={'center':'WODDS112421_1BesiktasAjax'}>,\n",
       "       <AxesSubplot:title={'center':'WOODS230222_Ajax'}>], dtype=object)"
      ]
     },
     "execution_count": 28,
     "metadata": {},
     "output_type": "execute_result"
    },
    {
     "data": {
      "image/png": "[encoded data removed]",
      "text/plain": [
       "<Figure size 1080x432 with 2 Axes>"
      ]
     },
     "metadata": {
      "needs_background": "light"
     },
     "output_type": "display_data"
    }
   ],
   "source": [
    "# df90_ad = df.amount_deposited\n",
    "df90_ad = df[df.amount_deposited < df.amount_deposited.quantile(.90)]\n",
    "df90_ad.hist('amount_deposited', by='bonus_template_name', figsize=(15,6))\n"
   ]
  },
  {
   "cell_type": "code",
   "execution_count": 29,
   "metadata": {},
   "outputs": [
    {
     "data": {
      "text/plain": [
       "array([<AxesSubplot:title={'center':'WODDS112421_1BesiktasAjax'}>,\n",
       "       <AxesSubplot:title={'center':'WOODS230222_Ajax'}>], dtype=object)"
      ]
     },
     "execution_count": 29,
     "metadata": {},
     "output_type": "execute_result"
    },
    {
     "data": {
      "image/png": "[encoded data removed]",
      "text/plain": [
       "<Figure size 1080x432 with 2 Axes>"
      ]
     },
     "metadata": {
      "needs_background": "light"
     },
     "output_type": "display_data"
    }
   ],
   "source": [
    "df75_ad = df[df.amount_deposited < df.amount_deposited.quantile(.75)]\n",
    "df75_ad.hist('amount_deposited', by='bonus_template_name', figsize=(15,6))"
   ]
  },
  {
   "cell_type": "code",
   "execution_count": 18,
   "metadata": {},
   "outputs": [
    {
     "data": {
      "text/html": [
       "<div>\n",
       "<style scoped>\n",
       "    .dataframe tbody tr th:only-of-type {\n",
       "        vertical-align: middle;\n",
       "    }\n",
       "\n",
       "    .dataframe tbody tr th {\n",
       "        vertical-align: top;\n",
       "    }\n",
       "\n",
       "    .dataframe thead th {\n",
       "        text-align: right;\n",
       "    }\n",
       "</style>\n",
       "<table border=\"1\" class=\"dataframe\">\n",
       "  <thead>\n",
       "    <tr style=\"text-align: right;\">\n",
       "      <th></th>\n",
       "      <th>count</th>\n",
       "      <th>mean</th>\n",
       "      <th>std</th>\n",
       "      <th>min</th>\n",
       "      <th>25%</th>\n",
       "      <th>50%</th>\n",
       "      <th>75%</th>\n",
       "      <th>max</th>\n",
       "    </tr>\n",
       "    <tr>\n",
       "      <th>bonus_template_name</th>\n",
       "      <th></th>\n",
       "      <th></th>\n",
       "      <th></th>\n",
       "      <th></th>\n",
       "      <th></th>\n",
       "      <th></th>\n",
       "      <th></th>\n",
       "      <th></th>\n",
       "    </tr>\n",
       "  </thead>\n",
       "  <tbody>\n",
       "    <tr>\n",
       "      <th>WODDS112421_1BesiktasAjax</th>\n",
       "      <td>97.0</td>\n",
       "      <td>384.092784</td>\n",
       "      <td>750.158109</td>\n",
       "      <td>1.0</td>\n",
       "      <td>21.0</td>\n",
       "      <td>84.0</td>\n",
       "      <td>295.0</td>\n",
       "      <td>3927.0</td>\n",
       "    </tr>\n",
       "    <tr>\n",
       "      <th>WOODS230222_Ajax</th>\n",
       "      <td>1760.0</td>\n",
       "      <td>133.925000</td>\n",
       "      <td>1093.734141</td>\n",
       "      <td>1.0</td>\n",
       "      <td>2.0</td>\n",
       "      <td>6.0</td>\n",
       "      <td>27.0</td>\n",
       "      <td>35448.0</td>\n",
       "    </tr>\n",
       "  </tbody>\n",
       "</table>\n",
       "</div>"
      ],
      "text/plain": [
       "                            count        mean          std  min   25%   50%  \\\n",
       "bonus_template_name                                                           \n",
       "WODDS112421_1BesiktasAjax    97.0  384.092784   750.158109  1.0  21.0  84.0   \n",
       "WOODS230222_Ajax           1760.0  133.925000  1093.734141  1.0   2.0   6.0   \n",
       "\n",
       "                             75%      max  \n",
       "bonus_template_name                        \n",
       "WODDS112421_1BesiktasAjax  295.0   3927.0  \n",
       "WOODS230222_Ajax            27.0  35448.0  "
      ]
     },
     "execution_count": 18,
     "metadata": {},
     "output_type": "execute_result"
    }
   ],
   "source": [
    "df.groupby('bonus_template_name').num_deposits.describe()"
   ]
  },
  {
   "cell_type": "code",
   "execution_count": 19,
   "metadata": {},
   "outputs": [
    {
     "data": {
      "text/html": [
       "<div>\n",
       "<style scoped>\n",
       "    .dataframe tbody tr th:only-of-type {\n",
       "        vertical-align: middle;\n",
       "    }\n",
       "\n",
       "    .dataframe tbody tr th {\n",
       "        vertical-align: top;\n",
       "    }\n",
       "\n",
       "    .dataframe thead th {\n",
       "        text-align: right;\n",
       "    }\n",
       "</style>\n",
       "<table border=\"1\" class=\"dataframe\">\n",
       "  <thead>\n",
       "    <tr style=\"text-align: right;\">\n",
       "      <th></th>\n",
       "      <th>count</th>\n",
       "      <th>mean</th>\n",
       "      <th>std</th>\n",
       "      <th>min</th>\n",
       "      <th>25%</th>\n",
       "      <th>50%</th>\n",
       "      <th>75%</th>\n",
       "      <th>max</th>\n",
       "    </tr>\n",
       "    <tr>\n",
       "      <th>bonus_template_name</th>\n",
       "      <th></th>\n",
       "      <th></th>\n",
       "      <th></th>\n",
       "      <th></th>\n",
       "      <th></th>\n",
       "      <th></th>\n",
       "      <th></th>\n",
       "      <th></th>\n",
       "    </tr>\n",
       "  </thead>\n",
       "  <tbody>\n",
       "    <tr>\n",
       "      <th>WODDS112421_1BesiktasAjax</th>\n",
       "      <td>97.0</td>\n",
       "      <td>2741.488351</td>\n",
       "      <td>10859.865731</td>\n",
       "      <td>5.0</td>\n",
       "      <td>60.0</td>\n",
       "      <td>250.0</td>\n",
       "      <td>866.6</td>\n",
       "      <td>89782.26</td>\n",
       "    </tr>\n",
       "    <tr>\n",
       "      <th>WOODS230222_Ajax</th>\n",
       "      <td>1760.0</td>\n",
       "      <td>396.777670</td>\n",
       "      <td>4032.969945</td>\n",
       "      <td>1.0</td>\n",
       "      <td>3.0</td>\n",
       "      <td>20.0</td>\n",
       "      <td>60.0</td>\n",
       "      <td>140997.00</td>\n",
       "    </tr>\n",
       "  </tbody>\n",
       "</table>\n",
       "</div>"
      ],
      "text/plain": [
       "                            count         mean           std  min   25%  \\\n",
       "bonus_template_name                                                       \n",
       "WODDS112421_1BesiktasAjax    97.0  2741.488351  10859.865731  5.0  60.0   \n",
       "WOODS230222_Ajax           1760.0   396.777670   4032.969945  1.0   3.0   \n",
       "\n",
       "                             50%    75%        max  \n",
       "bonus_template_name                                 \n",
       "WODDS112421_1BesiktasAjax  250.0  866.6   89782.26  \n",
       "WOODS230222_Ajax            20.0   60.0  140997.00  "
      ]
     },
     "execution_count": 19,
     "metadata": {},
     "output_type": "execute_result"
    }
   ],
   "source": [
    "df.groupby('bonus_template_name').all_stake_total.describe()"
   ]
  },
  {
   "cell_type": "code",
   "execution_count": null,
   "metadata": {},
   "outputs": [],
   "source": []
  }
 ],
 "metadata": {
  "interpreter": {
   "hash": "aee8b7b246df8f9039afb4144a1f6fd8d2ca17a180786b69acc140d282b71a49"
  },
  "kernelspec": {
   "display_name": "Python 3.9.10 64-bit",
   "language": "python",
   "name": "python3"
  },
  "language_info": {
   "codemirror_mode": {
    "name": "ipython",
    "version": 3
   },
   "file_extension": ".py",
   "mimetype": "text/x-python",
   "name": "python",
   "nbconvert_exporter": "python",
   "pygments_lexer": "ipython3",
   "version": "3.9.10"
  },
  "orig_nbformat": 4
 },
 "nbformat": 4,
 "nbformat_minor": 2
}
